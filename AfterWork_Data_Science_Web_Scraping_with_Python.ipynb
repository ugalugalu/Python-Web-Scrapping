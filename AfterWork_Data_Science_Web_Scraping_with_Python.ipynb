{
  "cells": [
    {
      "cell_type": "markdown",
      "metadata": {
        "id": "7i5A-UY4Yruf"
      },
      "source": [
        "<font color='#2F4F4F'>To use this notebook on Colaboratory, you will need to make a copy of it. Go to File > Save a Copy in Drive. You can then use the new copy that will appear in the new tab.</font>\n"
      ]
    },
    {
      "cell_type": "markdown",
      "metadata": {
        "id": "0rOdcI2Nzhky"
      },
      "source": [
        "# <font color='#2F4F4F'>AfterWork Data Science: Web Scraping with Python</font>"
      ]
    },
    {
      "cell_type": "markdown",
      "metadata": {
        "id": "Tcso2rJCNAGq"
      },
      "source": [
        "## <font color='#2F4F4F'>Prerequisites</font>"
      ]
    },
    {
      "cell_type": "code",
      "execution_count": 63,
      "metadata": {
        "id": "QSHljMZTNCRI"
      },
      "outputs": [],
      "source": [
        "# We first import the required libraries\n",
        "# ---\n",
        "#\n",
        "import pandas as pd             # library for data manupation\n",
        "import requests                 # library for fetching a web page \n",
        "from bs4 import BeautifulSoup   # library for extrating contents from a webpage "
      ]
    },
    {
      "cell_type": "markdown",
      "metadata": {
        "id": "CRmt1rRHgZRG"
      },
      "source": [
        "## <font color='#2F4F4F'>Step 1: Obtaining our Data</font>"
      ]
    },
    {
      "cell_type": "code",
      "execution_count": 64,
      "metadata": {
        "id": "cM5TKD-P1h7Z"
      },
      "outputs": [
        {
          "data": {
            "text/plain": [
              "<Response [200]>"
            ]
          },
          "execution_count": 64,
          "metadata": {},
          "output_type": "execute_result"
        }
      ],
      "source": [
        "# PigiaMe: https://www.pigiame.co.ke/it-software-jobs\n",
        "# ---\n",
        "#\n",
        "pigia_me = requests.get('https://www.pigiame.co.ke/it-software-jobs')\n",
        "pigia_me"
      ]
    },
    {
      "cell_type": "code",
      "execution_count": 65,
      "metadata": {
        "id": "OfUvfxrD1nQC"
      },
      "outputs": [
        {
          "data": {
            "text/plain": [
              "<Response [200]>"
            ]
          },
          "execution_count": 65,
          "metadata": {},
          "output_type": "execute_result"
        }
      ],
      "source": [
        "# MyJobMag: https://www.myjobmag.co.ke/jobs-by-field/information-technology\n",
        "# ---\n",
        "#\n",
        "myjob_mag = requests.get(\"https://www.myjobmag.co.ke/jobs-by-field/information-technology\")\n",
        "myjob_mag"
      ]
    },
    {
      "cell_type": "code",
      "execution_count": 66,
      "metadata": {
        "id": "psWrYhRUQDJC"
      },
      "outputs": [
        {
          "data": {
            "text/plain": [
              "<Response [200]>"
            ]
          },
          "execution_count": 66,
          "metadata": {},
          "output_type": "execute_result"
        }
      ],
      "source": [
        "# KenyanJob: https://www.kenyajob.com/job-vacancies-search-kenya?f%5B0%5D=im_field_offre_secteur%3A133\n",
        "# ---\n",
        "#\n",
        "\n",
        "kenya_job = requests.get(\"https://www.kenyajob.com/job-vacancies-search-kenya?f%5B0%5D=im_field_offre_secteur%3A133\")\n",
        "kenya_job\n"
      ]
    },
    {
      "cell_type": "markdown",
      "metadata": {
        "id": "h7iRb8U8hHNw"
      },
      "source": [
        "## <font color='#2F4F4F'>Step 2: Parsing</font>"
      ]
    },
    {
      "cell_type": "code",
      "execution_count": 67,
      "metadata": {
        "id": "AXWSK1kD2oeN"
      },
      "outputs": [],
      "source": [
        "# Parsing our document: pigia_me\n",
        "# ---\n",
        "# \n",
        "pigia_me_page_parser = BeautifulSoup(pigia_me.text, \"html.parser\")\n"
      ]
    },
    {
      "cell_type": "code",
      "execution_count": 69,
      "metadata": {
        "id": "lrH9mgR82pzg"
      },
      "outputs": [],
      "source": [
        "# Parsing our document: my_job_mag\n",
        "# ---\n",
        "#  \n",
        "myjob_mag_page_parser = BeautifulSoup(myjob_mag.text, \"html.parser\")\n"
      ]
    },
    {
      "cell_type": "code",
      "execution_count": 70,
      "metadata": {
        "id": "O0x-Wz03QP5O"
      },
      "outputs": [],
      "source": [
        "# Parsing our document: kenyan_job\n",
        "# ---\n",
        "# \n",
        "\n",
        "kenya_job_page_parser = BeautifulSoup(kenya_job.text,\"html.parser\")\n"
      ]
    },
    {
      "cell_type": "markdown",
      "metadata": {
        "id": "_OxuOAIXhPl5"
      },
      "source": [
        "## <font color='#2F4F4F'>Step 3: Extracting Required Elements</font>"
      ]
    },
    {
      "cell_type": "code",
      "execution_count": 72,
      "metadata": {
        "id": "e2p147_LICKn"
      },
      "outputs": [
        {
          "data": {
            "text/plain": [
              "['senior-full-stack-developer-hybrid-remote',\n",
              " 'head-of-cloud-infrastructure',\n",
              " 'senior-engineering-manager',\n",
              " 'senior-cloud-infrastructure-engineer',\n",
              " 'junior-research-assistant-data-and-information-systems',\n",
              " 'research-associate-data-and-information-systems',\n",
              " 'data-scientist',\n",
              " 'ai-software-engineer',\n",
              " 'data-analytics-engineer',\n",
              " 'data-manager']"
            ]
          },
          "execution_count": 72,
          "metadata": {},
          "output_type": "execute_result"
        }
      ],
      "source": [
        "# 1. Extracting job titles and links: pigia me\n",
        "# ---<a class=\"listing-card__inner\"\n",
        "# pigia_me_page_results = pigia_me_page_parser.find_all(\"a\",{\"class\":\"listing-card__inner\"})\n",
        "\n",
        "\n",
        "pigia_me_page_results = pigia_me_page_parser.find_all(\"a\", {\"class\":\"listing-card__inner\"})\n",
        "\n",
        "pigia_job_title = []\n",
        "pigia_job_url = []\n",
        "\n",
        "for result in pigia_me_page_results:\n",
        "    pigia_job_title.append(result.get(\"data-t-listing_slug\"))\n",
        "    pigia_job_url.append(result.get(\"href\"))\n",
        "\n",
        "pigia_job_title\n"
      ]
    },
    {
      "cell_type": "code",
      "execution_count": 160,
      "metadata": {
        "id": "NNLbrng_3QfA"
      },
      "outputs": [
        {
          "data": {
            "text/plain": [
              "['Business Analyst at Kenya Orient Insurance Limited',\n",
              " 'Software Development Trainer at TheJitu.com',\n",
              " 'Level 2 Support- Software Engineers at TheJitu.com',\n",
              " 'IT Help Desk Support at TheJitu.com',\n",
              " 'Level 1 Support at TheJitu.com',\n",
              " 'Digital Channels Support Officer at HF Group',\n",
              " 'Chief Information Officer at Old Mutual Kenya',\n",
              " 'Database Administrator - KTNA 7 at Kenya Trade Network Agency (KenTrade)',\n",
              " 'DevOps Engineer at Software Group',\n",
              " 'Information Communication Technology Interns - 5 Positions at Kwale County Government',\n",
              " 'High-Potential Apprenticeship Program in Software Engineering at Elewa Company Ltd',\n",
              " 'Information Technology Officer - Intern at Jubilee Insurance',\n",
              " 'Software Support Engineer at Compulynx Ltd',\n",
              " 'School of Science and Technology (SST) at United States International University - USIU Africa',\n",
              " 'Technical Advisor, Lead Developer at Palladium International',\n",
              " 'Senior ICT Specialist (Security and Infrastructure) at Medair',\n",
              " 'Splicing Technician at Jamii Telecommunications',\n",
              " 'Head, Technology at Standard Bank Group',\n",
              " 'Subscribe to Job Alert',\n",
              " 'Career Advice',\n",
              " 'Subscribe to Job Alert',\n",
              " 'Job Vacancies in ICT / Computer']"
            ]
          },
          "execution_count": 160,
          "metadata": {},
          "output_type": "execute_result"
        }
      ],
      "source": [
        "# 2. Extracting job titles: my_job_mag\n",
        "# ---\n",
        "myjob_mag_results = myjob_mag_page_parser.find_all(\"h2\")\n",
        "myjob_mag_titles = []\n",
        "for  i in myjob_mag_results:\n",
        "    myjob_mag_titles.append(i.text)\n",
        "\n",
        "myjob_mag_titles\n"
      ]
    },
    {
      "cell_type": "code",
      "execution_count": 162,
      "metadata": {
        "id": "I0fQKn63QV0R"
      },
      "outputs": [
        {
          "data": {
            "text/plain": [
              "['JAVA EE / JAVA 8 Developer with SQL Skills',\n",
              " 'Senior Freelance Web Designer',\n",
              " 'Accountant/Administrator',\n",
              " 'CCTV and Fire Alarms Systems Technician',\n",
              " 'CCTV and Fire Alarms Systems Technician',\n",
              " 'Information Technology Sales Specialist',\n",
              " 'AWS Cloud Architect (M/F)',\n",
              " 'AWS Solutions Architect (M/F)',\n",
              " 'AZURE Solutions Architect (M/F)',\n",
              " 'Cloud Architect (M/F)',\n",
              " 'Cloud Computing and Virtualization Engineer (M/F)',\n",
              " 'Cloud Engineer (M/F)',\n",
              " 'Cloud Microservices Architect (M/F)',\n",
              " 'Cloud System Administrator (M/F)',\n",
              " 'Cloud System Integrator (M/F)',\n",
              " 'Cyber Security Engineer (M/F)',\n",
              " 'DATASTAGE Architect (M/F)',\n",
              " 'GENESYS Architect (M/F)',\n",
              " 'Network Architect (M/F)',\n",
              " 'ANGULAR Developer (M/F)',\n",
              " 'DevOps Engineer (M/F)',\n",
              " 'DOTNET Developer (M/F)',\n",
              " 'IOS Developer (M/F)',\n",
              " 'JAVA Developer (M/F)',\n",
              " 'JAVA JEE Developer (M/F)']"
            ]
          },
          "execution_count": 162,
          "metadata": {},
          "output_type": "execute_result"
        }
      ],
      "source": [
        "# 3. Extracting job titles: kenya_job\n",
        "# ---\n",
        "#  <div class=\"col-lg-5 col-md-5 col-sm-5 col-xs-12 job-title\">\n",
        "\n",
        "kenya_job_results = kenya_job_page_parser.find_all(\"h5\")\n",
        "kenya_job_title = []\n",
        "for i in kenya_job_results:\n",
        "    kenya_job_title.append(i.text)\n",
        "kenya_job_title"
      ]
    },
    {
      "cell_type": "markdown",
      "metadata": {
        "id": "7ePXABAihaKn"
      },
      "source": [
        "## <font color='#2F4F4F'>Step 4: Saving our Data</font>"
      ]
    },
    {
      "cell_type": "code",
      "execution_count": 193,
      "metadata": {
        "id": "fsG9pQXk5f8y"
      },
      "outputs": [
        {
          "name": "stderr",
          "output_type": "stream",
          "text": [
            "/var/folders/rr/4y0g0lyd65b9vxs3m8bzmhnh0000gn/T/ipykernel_2200/3384162485.py:11: FutureWarning: The frame.append method is deprecated and will be removed from pandas in a future version. Use pandas.concat instead.\n",
            "  final_df = myjob_mag_df.append(kenya_job_df)\n",
            "/var/folders/rr/4y0g0lyd65b9vxs3m8bzmhnh0000gn/T/ipykernel_2200/3384162485.py:17: FutureWarning: The frame.append method is deprecated and will be removed from pandas in a future version. Use pandas.concat instead.\n",
            "  final_df = final_df.append(pigia_job_df,ignore_index= True)\n"
          ]
        },
        {
          "data": {
            "text/html": [
              "<div>\n",
              "<style scoped>\n",
              "    .dataframe tbody tr th:only-of-type {\n",
              "        vertical-align: middle;\n",
              "    }\n",
              "\n",
              "    .dataframe tbody tr th {\n",
              "        vertical-align: top;\n",
              "    }\n",
              "\n",
              "    .dataframe thead th {\n",
              "        text-align: right;\n",
              "    }\n",
              "</style>\n",
              "<table border=\"1\" class=\"dataframe\">\n",
              "  <thead>\n",
              "    <tr style=\"text-align: right;\">\n",
              "      <th></th>\n",
              "      <th>Job Titles</th>\n",
              "      <th>URL</th>\n",
              "    </tr>\n",
              "  </thead>\n",
              "  <tbody>\n",
              "    <tr>\n",
              "      <th>16</th>\n",
              "      <td>Splicing Technician at Jamii Telecommunications</td>\n",
              "      <td>NaN</td>\n",
              "    </tr>\n",
              "    <tr>\n",
              "      <th>17</th>\n",
              "      <td>Head, Technology at Standard Bank Group</td>\n",
              "      <td>NaN</td>\n",
              "    </tr>\n",
              "    <tr>\n",
              "      <th>22</th>\n",
              "      <td>JAVA EE / JAVA 8 Developer with SQL Skills</td>\n",
              "      <td>NaN</td>\n",
              "    </tr>\n",
              "    <tr>\n",
              "      <th>48</th>\n",
              "      <td>head-of-cloud-infrastructure</td>\n",
              "      <td>https://www.pigiame.co.ke/listings/head-of-clo...</td>\n",
              "    </tr>\n",
              "    <tr>\n",
              "      <th>55</th>\n",
              "      <td>data-analytics-engineer</td>\n",
              "      <td>https://www.pigiame.co.ke/listings/data-analyt...</td>\n",
              "    </tr>\n",
              "    <tr>\n",
              "      <th>41</th>\n",
              "      <td>ANGULAR Developer (M/F)</td>\n",
              "      <td>NaN</td>\n",
              "    </tr>\n",
              "    <tr>\n",
              "      <th>15</th>\n",
              "      <td>Senior ICT Specialist (Security and Infrastruc...</td>\n",
              "      <td>NaN</td>\n",
              "    </tr>\n",
              "    <tr>\n",
              "      <th>24</th>\n",
              "      <td>Accountant/Administrator</td>\n",
              "      <td>NaN</td>\n",
              "    </tr>\n",
              "    <tr>\n",
              "      <th>52</th>\n",
              "      <td>research-associate-data-and-information-systems</td>\n",
              "      <td>https://www.pigiame.co.ke/listings/research-as...</td>\n",
              "    </tr>\n",
              "    <tr>\n",
              "      <th>30</th>\n",
              "      <td>AZURE Solutions Architect (M/F)</td>\n",
              "      <td>NaN</td>\n",
              "    </tr>\n",
              "  </tbody>\n",
              "</table>\n",
              "</div>"
            ],
            "text/plain": [
              "                                           Job Titles  \\\n",
              "16    Splicing Technician at Jamii Telecommunications   \n",
              "17            Head, Technology at Standard Bank Group   \n",
              "22         JAVA EE / JAVA 8 Developer with SQL Skills   \n",
              "48                       head-of-cloud-infrastructure   \n",
              "55                            data-analytics-engineer   \n",
              "41                            ANGULAR Developer (M/F)   \n",
              "15  Senior ICT Specialist (Security and Infrastruc...   \n",
              "24                           Accountant/Administrator   \n",
              "52    research-associate-data-and-information-systems   \n",
              "30                    AZURE Solutions Architect (M/F)   \n",
              "\n",
              "                                                  URL  \n",
              "16                                                NaN  \n",
              "17                                                NaN  \n",
              "22                                                NaN  \n",
              "48  https://www.pigiame.co.ke/listings/head-of-clo...  \n",
              "55  https://www.pigiame.co.ke/listings/data-analyt...  \n",
              "41                                                NaN  \n",
              "15                                                NaN  \n",
              "24                                                NaN  \n",
              "52  https://www.pigiame.co.ke/listings/research-as...  \n",
              "30                                                NaN  "
            ]
          },
          "execution_count": 193,
          "metadata": {},
          "output_type": "execute_result"
        }
      ],
      "source": [
        "# Saving the scraped contents in a dataframe and preview our data\n",
        "# ---\n",
        "#\n",
        "# Create the DF from pigia Job Site\n",
        "pigia_job_df = pd.DataFrame({\"URL\":pigia_job_url,\"Job Titles\":pigia_job_title})\n",
        "\n",
        "#Create the DF from myjob mag site\n",
        "\n",
        "myjob_mag_df = pd.DataFrame({\"Job Titles\":myjob_mag_titles})\n",
        "\n",
        "# Create the DF from Kenya job sites\n",
        "kenya_job_df = pd.DataFrame({\"Job Titles\" : kenya_job_title})\n",
        "\n",
        "# Create the final df by combining the Other DFs, where there is no URL it will be a Nan\n",
        "final_df = myjob_mag_df.append(kenya_job_df)\n",
        "\n",
        "final_df = final_df.append(pigia_job_df,ignore_index= True)\n",
        "\n",
        "final_df.sample(10)\n",
        "\n"
      ]
    }
  ],
  "metadata": {
    "colab": {
      "collapsed_sections": [
        "Tcso2rJCNAGq",
        "CRmt1rRHgZRG",
        "h7iRb8U8hHNw",
        "_OxuOAIXhPl5",
        "7ePXABAihaKn"
      ],
      "provenance": [],
      "toc_visible": true
    },
    "kernelspec": {
      "display_name": "base",
      "language": "python",
      "name": "python3"
    },
    "language_info": {
      "codemirror_mode": {
        "name": "ipython",
        "version": 3
      },
      "file_extension": ".py",
      "mimetype": "text/x-python",
      "name": "python",
      "nbconvert_exporter": "python",
      "pygments_lexer": "ipython3",
      "version": "3.9.7"
    },
    "vscode": {
      "interpreter": {
        "hash": "caa13fab9fa604ad9ca3778e69ccc4111fad5d5c0dd4e3e0f7a37964d2ffe6e5"
      }
    }
  },
  "nbformat": 4,
  "nbformat_minor": 0
}
